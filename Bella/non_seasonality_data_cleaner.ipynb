{
 "cells": [
  {
   "cell_type": "code",
   "execution_count": 7,
   "metadata": {},
   "outputs": [
    {
     "name": "stdout",
     "output_type": "stream",
     "text": [
      "Cleaned data saved to cleaned_data/cleaned_not_seasonality_adjust.csv\n"
     ]
    }
   ],
   "source": [
    "import pandas as pd\n",
    "\n",
    "def clean_not_seasonality_data(input_file, output_file):\n",
    "    df = pd.read_csv(input_file)\n",
    "    \n",
    "    month_map = {\n",
    "        \"1月\": \"01\", \"2月\": \"02\", \"3月\": \"03\", \"4月\": \"04\", \"5月\": \"05\", \"6月\": \"06\",\n",
    "        \"7月\": \"07\", \"8月\": \"08\", \"9月\": \"09\", \"10月\": \"10\", \"11月\": \"11\", \"12月\": \"12\"\n",
    "    }\n",
    "    \n",
    "    df[['Month', 'Year']] = df['Date'].str.split(' ', expand=True)\n",
    "    \n",
    "    df['Month'] = df['Month'].map(month_map)\n",
    "    \n",
    "    df['Date'] = df['Year'] + '-' + df['Month']\n",
    "    \n",
    "    df.drop(columns=['Month', 'Year'], inplace=True)\n",
    "    \n",
    "    df.dropna(inplace=True)\n",
    "    \n",
    "    df.columns = df.columns.str.strip()\n",
    "    \n",
    "    df.to_csv(output_file, index=False)\n",
    "    \n",
    "    print(f\"Cleaned data saved to {output_file}\")\n",
    "\n",
    "input_file = \"Raw_data/not_seasonality_adjust.csv\"\n",
    "output_file = \"cleaned_data/cleaned_not_seasonality_adjust.csv\"\n",
    "clean_not_seasonality_data(input_file, output_file)\n"
   ]
  }
 ],
 "metadata": {
  "kernelspec": {
   "display_name": "cmpt733",
   "language": "python",
   "name": "python3"
  },
  "language_info": {
   "codemirror_mode": {
    "name": "ipython",
    "version": 3
   },
   "file_extension": ".py",
   "mimetype": "text/x-python",
   "name": "python",
   "nbconvert_exporter": "python",
   "pygments_lexer": "ipython3",
   "version": "3.8.20"
  }
 },
 "nbformat": 4,
 "nbformat_minor": 2
}
