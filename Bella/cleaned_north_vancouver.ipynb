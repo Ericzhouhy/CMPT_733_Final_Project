{
 "cells": [
  {
   "cell_type": "code",
   "execution_count": 1,
   "metadata": {},
   "outputs": [
    {
     "name": "stdout",
     "output_type": "stream",
     "text": [
      "已成功创建只包含 Polygon 的 GeoJSON！\n"
     ]
    }
   ],
   "source": [
    "import json\n",
    "\n",
    "# 读取原始 GeoJSON\n",
    "file_path = \"/Users/mengxia/Desktop/export.geojson\"\n",
    "with open(file_path, \"r\", encoding=\"utf-8\") as file:\n",
    "    geojson_data = json.load(file)\n",
    "\n",
    "# 只保留 Polygon\n",
    "filtered_features = [\n",
    "    feature for feature in geojson_data[\"features\"]\n",
    "    if feature[\"geometry\"][\"type\"] == \"Polygon\"\n",
    "]\n",
    "\n",
    "# 创建新 GeoJSON\n",
    "filtered_geojson = {\n",
    "    \"type\": \"FeatureCollection\",\n",
    "    \"features\": filtered_features\n",
    "}\n",
    "\n",
    "# 保存为新文件\n",
    "with open(\"cleaned_north_vancouver.geojson\", \"w\", encoding=\"utf-8\") as file:\n",
    "    json.dump(filtered_geojson, file, indent=4)\n",
    "\n",
    "print(\"已成功创建只包含 Polygon 的 GeoJSON！\")\n"
   ]
  }
 ],
 "metadata": {
  "kernelspec": {
   "display_name": "base",
   "language": "python",
   "name": "python3"
  },
  "language_info": {
   "codemirror_mode": {
    "name": "ipython",
    "version": 3
   },
   "file_extension": ".py",
   "mimetype": "text/x-python",
   "name": "python",
   "nbconvert_exporter": "python",
   "pygments_lexer": "ipython3",
   "version": "3.9.16"
  }
 },
 "nbformat": 4,
 "nbformat_minor": 2
}
